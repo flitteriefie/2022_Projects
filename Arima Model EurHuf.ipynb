{
 "cells": [
  {
   "cell_type": "code",
   "execution_count": 95,
   "metadata": {},
   "outputs": [],
   "source": [
    "import pandas as pd\n",
    "import numpy as np\n",
    "import matplotlib.pyplot as plt"
   ]
  },
  {
   "cell_type": "markdown",
   "metadata": {},
   "source": [
    "#Importing data\n",
    "\n",
    "Datasource:\n",
    "\n",
    "https://sdw.ecb.europa.eu/quickview.do?SERIES_KEY=120.EXR.D.HUF.EUR.SP00.A"
   ]
  },
  {
   "cell_type": "code",
   "execution_count": 96,
   "metadata": {},
   "outputs": [
    {
     "data": {
      "text/html": [
       "<div>\n",
       "<style scoped>\n",
       "    .dataframe tbody tr th:only-of-type {\n",
       "        vertical-align: middle;\n",
       "    }\n",
       "\n",
       "    .dataframe tbody tr th {\n",
       "        vertical-align: top;\n",
       "    }\n",
       "\n",
       "    .dataframe thead th {\n",
       "        text-align: right;\n",
       "    }\n",
       "</style>\n",
       "<table border=\"1\" class=\"dataframe\">\n",
       "  <thead>\n",
       "    <tr style=\"text-align: right;\">\n",
       "      <th></th>\n",
       "      <th>date</th>\n",
       "      <th>conf</th>\n",
       "      <th>status1</th>\n",
       "      <th>s1</th>\n",
       "      <th>s1zz</th>\n",
       "    </tr>\n",
       "  </thead>\n",
       "  <tbody>\n",
       "    <tr>\n",
       "      <th>0</th>\n",
       "      <td>03/01/2022</td>\n",
       "      <td>NaN</td>\n",
       "      <td>Normal value</td>\n",
       "      <td>367.71</td>\n",
       "      <td>NaN</td>\n",
       "    </tr>\n",
       "    <tr>\n",
       "      <th>1</th>\n",
       "      <td>04/01/2022</td>\n",
       "      <td>NaN</td>\n",
       "      <td>Normal value</td>\n",
       "      <td>365.12</td>\n",
       "      <td>NaN</td>\n",
       "    </tr>\n",
       "    <tr>\n",
       "      <th>2</th>\n",
       "      <td>05/01/2022</td>\n",
       "      <td>NaN</td>\n",
       "      <td>Normal value</td>\n",
       "      <td>362.15</td>\n",
       "      <td>NaN</td>\n",
       "    </tr>\n",
       "    <tr>\n",
       "      <th>3</th>\n",
       "      <td>06/01/2022</td>\n",
       "      <td>NaN</td>\n",
       "      <td>Normal value</td>\n",
       "      <td>359.84</td>\n",
       "      <td>NaN</td>\n",
       "    </tr>\n",
       "    <tr>\n",
       "      <th>4</th>\n",
       "      <td>07/01/2022</td>\n",
       "      <td>NaN</td>\n",
       "      <td>Normal value</td>\n",
       "      <td>358.68</td>\n",
       "      <td>NaN</td>\n",
       "    </tr>\n",
       "  </tbody>\n",
       "</table>\n",
       "</div>"
      ],
      "text/plain": [
       "         date  conf       status1      s1  s1zz\n",
       "0  03/01/2022   NaN  Normal value  367.71   NaN\n",
       "1  04/01/2022   NaN  Normal value  365.12   NaN\n",
       "2  05/01/2022   NaN  Normal value  362.15   NaN\n",
       "3  06/01/2022   NaN  Normal value  359.84   NaN\n",
       "4  07/01/2022   NaN  Normal value  358.68   NaN"
      ]
     },
     "execution_count": 96,
     "metadata": {},
     "output_type": "execute_result"
    }
   ],
   "source": [
    "df = pd.read_csv(\"amCharts2022.csv\")\n",
    "df.head()"
   ]
  },
  {
   "cell_type": "markdown",
   "metadata": {},
   "source": [
    "### Basic Data Processing\n",
    "\n",
    "Rename columns and format the date object"
   ]
  },
  {
   "cell_type": "code",
   "execution_count": 97,
   "metadata": {},
   "outputs": [
    {
     "data": {
      "text/html": [
       "<div>\n",
       "<style scoped>\n",
       "    .dataframe tbody tr th:only-of-type {\n",
       "        vertical-align: middle;\n",
       "    }\n",
       "\n",
       "    .dataframe tbody tr th {\n",
       "        vertical-align: top;\n",
       "    }\n",
       "\n",
       "    .dataframe thead th {\n",
       "        text-align: right;\n",
       "    }\n",
       "</style>\n",
       "<table border=\"1\" class=\"dataframe\">\n",
       "  <thead>\n",
       "    <tr style=\"text-align: right;\">\n",
       "      <th></th>\n",
       "      <th>date</th>\n",
       "      <th>s1</th>\n",
       "    </tr>\n",
       "  </thead>\n",
       "  <tbody>\n",
       "    <tr>\n",
       "      <th>0</th>\n",
       "      <td>03/01/2022</td>\n",
       "      <td>367.71</td>\n",
       "    </tr>\n",
       "    <tr>\n",
       "      <th>1</th>\n",
       "      <td>04/01/2022</td>\n",
       "      <td>365.12</td>\n",
       "    </tr>\n",
       "    <tr>\n",
       "      <th>2</th>\n",
       "      <td>05/01/2022</td>\n",
       "      <td>362.15</td>\n",
       "    </tr>\n",
       "    <tr>\n",
       "      <th>3</th>\n",
       "      <td>06/01/2022</td>\n",
       "      <td>359.84</td>\n",
       "    </tr>\n",
       "    <tr>\n",
       "      <th>4</th>\n",
       "      <td>07/01/2022</td>\n",
       "      <td>358.68</td>\n",
       "    </tr>\n",
       "  </tbody>\n",
       "</table>\n",
       "</div>"
      ],
      "text/plain": [
       "         date      s1\n",
       "0  03/01/2022  367.71\n",
       "1  04/01/2022  365.12\n",
       "2  05/01/2022  362.15\n",
       "3  06/01/2022  359.84\n",
       "4  07/01/2022  358.68"
      ]
     },
     "execution_count": 97,
     "metadata": {},
     "output_type": "execute_result"
    }
   ],
   "source": [
    "df.drop([\"conf\", \"status1\", \"s1zz\"], axis=1, inplace=True)\n",
    "df.head()"
   ]
  },
  {
   "cell_type": "code",
   "execution_count": 98,
   "metadata": {},
   "outputs": [
    {
     "data": {
      "text/plain": [
       "(163, 2)"
      ]
     },
     "execution_count": 98,
     "metadata": {},
     "output_type": "execute_result"
    }
   ],
   "source": [
    "df.shape"
   ]
  },
  {
   "cell_type": "code",
   "execution_count": 99,
   "metadata": {},
   "outputs": [],
   "source": [
    "new_col_names = ['Time', 'HufEur']\n",
    "df.columns = new_col_names"
   ]
  },
  {
   "cell_type": "code",
   "execution_count": 100,
   "metadata": {},
   "outputs": [
    {
     "data": {
      "text/plain": [
       "(163, 2)"
      ]
     },
     "execution_count": 100,
     "metadata": {},
     "output_type": "execute_result"
    }
   ],
   "source": [
    "#dropping possible NaN values\n",
    "df = df.dropna()\n",
    "df.shape"
   ]
  },
  {
   "cell_type": "code",
   "execution_count": 101,
   "metadata": {},
   "outputs": [
    {
     "data": {
      "text/plain": [
       "Time      datetime64[ns]\n",
       "HufEur           float64\n",
       "dtype: object"
      ]
     },
     "execution_count": 101,
     "metadata": {},
     "output_type": "execute_result"
    }
   ],
   "source": [
    "df['Time'] = pd.to_datetime(df['Time'])\n",
    "df.dtypes"
   ]
  },
  {
   "cell_type": "code",
   "execution_count": 102,
   "metadata": {},
   "outputs": [
    {
     "data": {
      "text/html": [
       "<div>\n",
       "<style scoped>\n",
       "    .dataframe tbody tr th:only-of-type {\n",
       "        vertical-align: middle;\n",
       "    }\n",
       "\n",
       "    .dataframe tbody tr th {\n",
       "        vertical-align: top;\n",
       "    }\n",
       "\n",
       "    .dataframe thead th {\n",
       "        text-align: right;\n",
       "    }\n",
       "</style>\n",
       "<table border=\"1\" class=\"dataframe\">\n",
       "  <thead>\n",
       "    <tr style=\"text-align: right;\">\n",
       "      <th></th>\n",
       "      <th>HufEur</th>\n",
       "    </tr>\n",
       "    <tr>\n",
       "      <th>Time</th>\n",
       "      <th></th>\n",
       "    </tr>\n",
       "  </thead>\n",
       "  <tbody>\n",
       "    <tr>\n",
       "      <th>2022-03-01</th>\n",
       "      <td>367.71</td>\n",
       "    </tr>\n",
       "    <tr>\n",
       "      <th>2022-04-01</th>\n",
       "      <td>365.12</td>\n",
       "    </tr>\n",
       "    <tr>\n",
       "      <th>2022-05-01</th>\n",
       "      <td>362.15</td>\n",
       "    </tr>\n",
       "    <tr>\n",
       "      <th>2022-06-01</th>\n",
       "      <td>359.84</td>\n",
       "    </tr>\n",
       "    <tr>\n",
       "      <th>2022-07-01</th>\n",
       "      <td>358.68</td>\n",
       "    </tr>\n",
       "  </tbody>\n",
       "</table>\n",
       "</div>"
      ],
      "text/plain": [
       "            HufEur\n",
       "Time              \n",
       "2022-03-01  367.71\n",
       "2022-04-01  365.12\n",
       "2022-05-01  362.15\n",
       "2022-06-01  359.84\n",
       "2022-07-01  358.68"
      ]
     },
     "execution_count": 102,
     "metadata": {},
     "output_type": "execute_result"
    }
   ],
   "source": [
    "#setting the index as the Time for timeseries analysis\n",
    "daily_data = df[[\"Time\", \"HufEur\"]]\n",
    "daily_data.set_index(\"Time\", inplace=True)\n",
    "daily_data.head()"
   ]
  },
  {
   "cell_type": "code",
   "execution_count": 103,
   "metadata": {},
   "outputs": [
    {
     "data": {
      "text/plain": [
       "<AxesSubplot:xlabel='Time'>"
      ]
     },
     "execution_count": 103,
     "metadata": {},
     "output_type": "execute_result"
    },
    {
     "data": {
      "image/png": "[encoded data removed]",
      "text/plain": [
       "<Figure size 432x288 with 1 Axes>"
      ]
     },
     "metadata": {
      "needs_background": "light"
     },
     "output_type": "display_data"
    }
   ],
   "source": [
    "daily_data.plot()"
   ]
  },
  {
   "cell_type": "markdown",
   "metadata": {},
   "source": [
    "# Data Exploration\n",
    "\n",
    "Checking if the timeseries is stationary or not"
   ]
  },
  {
   "cell_type": "code",
   "execution_count": 104,
   "metadata": {},
   "outputs": [
    {
     "data": {
      "image/png": "[encoded data removed]",
      "text/plain": [
       "<Figure size 432x288 with 1 Axes>"
      ]
     },
     "execution_count": 104,
     "metadata": {},
     "output_type": "execute_result"
    },
    {
     "data": {
      "image/png": "[encoded data removed]",
      "text/plain": [
       "<Figure size 432x288 with 1 Axes>"
      ]
     },
     "metadata": {
      "needs_background": "light"
     },
     "output_type": "display_data"
    }
   ],
   "source": [
    "from statsmodels.graphics.tsaplots import plot_acf\n",
    "\n",
    "plot_acf(daily_data)"
   ]
  },
  {
   "cell_type": "markdown",
   "metadata": {},
   "source": [
    "Based on the autocorrelation plot our timeseries on not stationary"
   ]
  },
  {
   "cell_type": "code",
   "execution_count": 105,
   "metadata": {},
   "outputs": [
    {
     "data": {
      "text/html": [
       "<div>\n",
       "<style scoped>\n",
       "    .dataframe tbody tr th:only-of-type {\n",
       "        vertical-align: middle;\n",
       "    }\n",
       "\n",
       "    .dataframe tbody tr th {\n",
       "        vertical-align: top;\n",
       "    }\n",
       "\n",
       "    .dataframe thead th {\n",
       "        text-align: right;\n",
       "    }\n",
       "</style>\n",
       "<table border=\"1\" class=\"dataframe\">\n",
       "  <thead>\n",
       "    <tr style=\"text-align: right;\">\n",
       "      <th></th>\n",
       "      <th>HufEur</th>\n",
       "    </tr>\n",
       "    <tr>\n",
       "      <th>Time</th>\n",
       "      <th></th>\n",
       "    </tr>\n",
       "  </thead>\n",
       "  <tbody>\n",
       "    <tr>\n",
       "      <th>2022-04-01</th>\n",
       "      <td>-2.59</td>\n",
       "    </tr>\n",
       "    <tr>\n",
       "      <th>2022-05-01</th>\n",
       "      <td>-2.97</td>\n",
       "    </tr>\n",
       "    <tr>\n",
       "      <th>2022-06-01</th>\n",
       "      <td>-2.31</td>\n",
       "    </tr>\n",
       "    <tr>\n",
       "      <th>2022-07-01</th>\n",
       "      <td>-1.16</td>\n",
       "    </tr>\n",
       "    <tr>\n",
       "      <th>2022-10-01</th>\n",
       "      <td>-0.28</td>\n",
       "    </tr>\n",
       "  </tbody>\n",
       "</table>\n",
       "</div>"
      ],
      "text/plain": [
       "            HufEur\n",
       "Time              \n",
       "2022-04-01   -2.59\n",
       "2022-05-01   -2.97\n",
       "2022-06-01   -2.31\n",
       "2022-07-01   -1.16\n",
       "2022-10-01   -0.28"
      ]
     },
     "execution_count": 105,
     "metadata": {},
     "output_type": "execute_result"
    }
   ],
   "source": [
    "# converting series into statinary\n",
    "exchange_diff = daily_data.diff(periods=1) #integrated order of 1\n",
    "exchange_diff = exchange_diff[1:]\n",
    "exchange_diff.head()"
   ]
  },
  {
   "cell_type": "code",
   "execution_count": 106,
   "metadata": {},
   "outputs": [
    {
     "data": {
      "image/png": "[encoded data removed]",
      "text/plain": [
       "<Figure size 432x288 with 1 Axes>"
      ]
     },
     "execution_count": 106,
     "metadata": {},
     "output_type": "execute_result"
    },
    {
     "data": {
      "image/png": "[encoded data removed]",
      "text/plain": [
       "<Figure size 432x288 with 1 Axes>"
      ]
     },
     "metadata": {
      "needs_background": "light"
     },
     "output_type": "display_data"
    }
   ],
   "source": [
    "plot_acf(exchange_diff)"
   ]
  },
  {
   "cell_type": "markdown",
   "metadata": {},
   "source": [
    "One degree of difference is already showing huge improvements"
   ]
  },
  {
   "cell_type": "code",
   "execution_count": 107,
   "metadata": {},
   "outputs": [
    {
     "data": {
      "text/plain": [
       "<AxesSubplot:xlabel='Time'>"
      ]
     },
     "execution_count": 107,
     "metadata": {},
     "output_type": "execute_result"
    },
    {
     "data": {
      "image/png": "[encoded data removed]",
      "text/plain": [
       "<Figure size 432x288 with 1 Axes>"
      ]
     },
     "metadata": {
      "needs_background": "light"
     },
     "output_type": "display_data"
    }
   ],
   "source": [
    "exchange_diff.plot()"
   ]
  },
  {
   "cell_type": "code",
   "execution_count": 108,
   "metadata": {},
   "outputs": [
    {
     "data": {
      "text/plain": [
       "162"
      ]
     },
     "execution_count": 108,
     "metadata": {},
     "output_type": "execute_result"
    }
   ],
   "source": [
    "exchange_diff.size"
   ]
  },
  {
   "cell_type": "markdown",
   "metadata": {},
   "source": [
    "### Modelling"
   ]
  },
  {
   "cell_type": "markdown",
   "metadata": {},
   "source": [
    "AutoRegression"
   ]
  },
  {
   "cell_type": "code",
   "execution_count": 115,
   "metadata": {},
   "outputs": [],
   "source": [
    "#Splitting the data into training and testing set\n",
    "X = daily_data.values\n",
    "train = X[0:152]\n",
    "test = X[153:]"
   ]
  },
  {
   "cell_type": "code",
   "execution_count": 116,
   "metadata": {},
   "outputs": [
    {
     "data": {
      "text/plain": [
       "(10, 152)"
      ]
     },
     "execution_count": 116,
     "metadata": {},
     "output_type": "execute_result"
    }
   ],
   "source": [
    "test.size, train.size"
   ]
  },
  {
   "cell_type": "markdown",
   "metadata": {},
   "source": [
    "AR Model"
   ]
  },
  {
   "cell_type": "code",
   "execution_count": 126,
   "metadata": {},
   "outputs": [],
   "source": [
    "from statsmodels.tsa.ar_model import AutoReg\n",
    "from sklearn.metrics import mean_squared_error\n",
    "\n",
    "model_ar = AutoReg(train, lags=10)\n",
    "model_ar_fit = model_ar.fit()\n"
   ]
  },
  {
   "cell_type": "code",
   "execution_count": 127,
   "metadata": {},
   "outputs": [
    {
     "data": {
      "text/plain": [
       "array([395.18130905, 395.10236162, 395.78341652, 396.80287978,\n",
       "       397.67823812, 398.64625152, 399.05329836, 398.95325231,\n",
       "       398.93847038, 399.1520479 ])"
      ]
     },
     "execution_count": 127,
     "metadata": {},
     "output_type": "execute_result"
    }
   ],
   "source": [
    "model_ar_fit.predict(start=153, end=162)"
   ]
  },
  {
   "cell_type": "code",
   "execution_count": 128,
   "metadata": {},
   "outputs": [
    {
     "data": {
      "text/plain": [
       "[<matplotlib.lines.Line2D at 0x24ea8e724f0>]"
      ]
     },
     "execution_count": 128,
     "metadata": {},
     "output_type": "execute_result"
    },
    {
     "data": {
      "image/png": "[encoded data removed]",
      "text/plain": [
       "<Figure size 432x288 with 1 Axes>"
      ]
     },
     "metadata": {
      "needs_background": "light"
     },
     "output_type": "display_data"
    }
   ],
   "source": [
    "plt.plot(test)\n",
    "plt.plot(model_ar_fit.predict(start=153, end=162).tolist(), color=\"red\")"
   ]
  },
  {
   "cell_type": "markdown",
   "metadata": {},
   "source": [
    "ARIMA Model"
   ]
  },
  {
   "cell_type": "code",
   "execution_count": 129,
   "metadata": {},
   "outputs": [],
   "source": [
    "from statsmodels.tsa.arima.model import ARIMA"
   ]
  },
  {
   "cell_type": "markdown",
   "metadata": {},
   "source": [
    "Trying to find the best values for our p,d,q"
   ]
  },
  {
   "cell_type": "code",
   "execution_count": null,
   "metadata": {},
   "outputs": [
    {
     "data": {
      "text/plain": [
       "[(0, 0, 0),\n",
       " (0, 0, 1),\n",
       " (0, 0, 2),\n",
       " (0, 0, 3),\n",
       " (0, 0, 4),\n",
       " (0, 1, 0),\n",
       " (0, 1, 1),\n",
       " (0, 1, 2),\n",
       " (0, 1, 3),\n",
       " (0, 1, 4),\n",
       " (0, 2, 0),\n",
       " (0, 2, 1),\n",
       " (0, 2, 2),\n",
       " (0, 2, 3),\n",
       " (0, 2, 4),\n",
       " (0, 3, 0),\n",
       " (0, 3, 1),\n",
       " (0, 3, 2),\n",
       " (0, 3, 3),\n",
       " (0, 3, 4),\n",
       " (0, 4, 0),\n",
       " (0, 4, 1),\n",
       " (0, 4, 2),\n",
       " (0, 4, 3),\n",
       " (0, 4, 4),\n",
       " (1, 0, 0),\n",
       " (1, 0, 1),\n",
       " (1, 0, 2),\n",
       " (1, 0, 3),\n",
       " (1, 0, 4),\n",
       " (1, 1, 0),\n",
       " (1, 1, 1),\n",
       " (1, 1, 2),\n",
       " (1, 1, 3),\n",
       " (1, 1, 4),\n",
       " (1, 2, 0),\n",
       " (1, 2, 1),\n",
       " (1, 2, 2),\n",
       " (1, 2, 3),\n",
       " (1, 2, 4),\n",
       " (1, 3, 0),\n",
       " (1, 3, 1),\n",
       " (1, 3, 2),\n",
       " (1, 3, 3),\n",
       " (1, 3, 4),\n",
       " (1, 4, 0),\n",
       " (1, 4, 1),\n",
       " (1, 4, 2),\n",
       " (1, 4, 3),\n",
       " (1, 4, 4),\n",
       " (2, 0, 0),\n",
       " (2, 0, 1),\n",
       " (2, 0, 2),\n",
       " (2, 0, 3),\n",
       " (2, 0, 4),\n",
       " (2, 1, 0),\n",
       " (2, 1, 1),\n",
       " (2, 1, 2),\n",
       " (2, 1, 3),\n",
       " (2, 1, 4),\n",
       " (2, 2, 0),\n",
       " (2, 2, 1),\n",
       " (2, 2, 2),\n",
       " (2, 2, 3),\n",
       " (2, 2, 4),\n",
       " (2, 3, 0),\n",
       " (2, 3, 1),\n",
       " (2, 3, 2),\n",
       " (2, 3, 3),\n",
       " (2, 3, 4),\n",
       " (2, 4, 0),\n",
       " (2, 4, 1),\n",
       " (2, 4, 2),\n",
       " (2, 4, 3),\n",
       " (2, 4, 4),\n",
       " (3, 0, 0),\n",
       " (3, 0, 1),\n",
       " (3, 0, 2),\n",
       " (3, 0, 3),\n",
       " (3, 0, 4),\n",
       " (3, 1, 0),\n",
       " (3, 1, 1),\n",
       " (3, 1, 2),\n",
       " (3, 1, 3),\n",
       " (3, 1, 4),\n",
       " (3, 2, 0),\n",
       " (3, 2, 1),\n",
       " (3, 2, 2),\n",
       " (3, 2, 3),\n",
       " (3, 2, 4),\n",
       " (3, 3, 0),\n",
       " (3, 3, 1),\n",
       " (3, 3, 2),\n",
       " (3, 3, 3),\n",
       " (3, 3, 4),\n",
       " (3, 4, 0),\n",
       " (3, 4, 1),\n",
       " (3, 4, 2),\n",
       " (3, 4, 3),\n",
       " (3, 4, 4),\n",
       " (4, 0, 0),\n",
       " (4, 0, 1),\n",
       " (4, 0, 2),\n",
       " (4, 0, 3),\n",
       " (4, 0, 4),\n",
       " (4, 1, 0),\n",
       " (4, 1, 1),\n",
       " (4, 1, 2),\n",
       " (4, 1, 3),\n",
       " (4, 1, 4),\n",
       " (4, 2, 0),\n",
       " (4, 2, 1),\n",
       " (4, 2, 2),\n",
       " (4, 2, 3),\n",
       " (4, 2, 4),\n",
       " (4, 3, 0),\n",
       " (4, 3, 1),\n",
       " (4, 3, 2),\n",
       " (4, 3, 3),\n",
       " (4, 3, 4),\n",
       " (4, 4, 0),\n",
       " (4, 4, 1),\n",
       " (4, 4, 2),\n",
       " (4, 4, 3),\n",
       " (4, 4, 4)]"
      ]
     },
     "metadata": {},
     "output_type": "display_data"
    }
   ],
   "source": [
    "import itertools\n",
    "p=d=q=range(0,5)\n",
    "pdq = list(itertools.product(p,d,q))\n",
    "pdq"
   ]
  },
  {
   "cell_type": "code",
   "execution_count": null,
   "metadata": {},
   "outputs": [
    {
     "name": "stdout",
     "output_type": "stream",
     "text": [
      "(0, 0, 0) 1296.7456213702699\n",
      "(0, 0, 1) 1125.2022661228366\n",
      "(0, 0, 2) 1008.9675252034024\n",
      "(0, 0, 3) 938.6682269185147\n",
      "(0, 0, 4) 906.9043598750078\n",
      "(0, 1, 0) 772.3090912352111\n",
      "(0, 1, 1) 771.6818545895609\n",
      "(0, 1, 2) 771.1299668721451\n",
      "(0, 1, 3) 772.7929023321332\n",
      "(0, 1, 4) 771.1741000639161\n",
      "(0, 2, 0) 854.4932277351622\n",
      "(0, 2, 1) 774.6723388865887\n",
      "(0, 2, 2) 773.9063802466242\n",
      "(0, 2, 3) 773.4757472925631\n",
      "(0, 2, 4) 775.1399555353655\n",
      "(0, 3, 0) 998.2215130437104\n",
      "(0, 3, 1) 856.81322831496\n",
      "(0, 3, 2) 783.8684642913331\n",
      "(0, 3, 3) 782.5724174921284\n",
      "(0, 3, 4) 782.6101688144443\n",
      "(0, 4, 0) 1159.1258526781048\n",
      "(0, 4, 1) 999.5345258266527\n",
      "(0, 4, 2) 863.8477537810766\n",
      "(0, 4, 3) 798.9892110661619\n",
      "(0, 4, 4) 797.7318002705792\n",
      "(1, 0, 0) 783.2434336450737\n",
      "(1, 0, 1) 782.2001118945385\n",
      "(1, 0, 2) 782.0752500906686\n",
      "(1, 0, 3) 783.8833121434602\n",
      "(1, 0, 4) 781.4302290901081\n",
      "(1, 1, 0) 772.5207657451257\n",
      "(1, 1, 1) 772.4310935394913\n",
      "(1, 1, 2) 773.0608355959546\n",
      "(1, 1, 3) 770.5542420100339\n",
      "(1, 1, 4) 772.973014221848\n",
      "(1, 2, 0) 836.3220339107435\n",
      "(1, 2, 1) 774.7808634337965\n",
      "(1, 2, 2) 774.6964462676561\n",
      "(1, 2, 3) 777.0559662438884\n",
      "(1, 2, 4) 772.9012376084262\n",
      "(1, 3, 0) 948.9246087688068\n",
      "(1, 3, 1) 839.3742140600457\n",
      "(1, 3, 2) 856.1613724511924\n",
      "(1, 3, 3) 787.852107767132\n",
      "(1, 3, 4) 786.3486469527331\n",
      "(1, 4, 0) 1078.5128162292715\n",
      "(1, 4, 1) 951.4353778904604\n",
      "(1, 4, 2) 847.4364569211413\n",
      "(1, 4, 3) 863.3859588414912\n",
      "(1, 4, 4) 802.950540922122\n",
      "(2, 0, 0) 783.1258831704822\n",
      "(2, 0, 1) 783.0795002394877\n",
      "(2, 0, 2) 784.0490383325603\n",
      "(2, 0, 3) 781.63423007055\n",
      "(2, 0, 4) 783.3813549488417\n",
      "(2, 1, 0) 770.4307289060451\n",
      "(2, 1, 1) 772.1729006923595\n",
      "(2, 1, 2) 764.6173696320816\n",
      "(2, 1, 3) 766.5921404622195\n",
      "(2, 1, 4) 768.2283880017093\n",
      "(2, 2, 0) 808.2488655567427\n",
      "(2, 2, 1) 772.800361622499\n",
      "(2, 2, 2) 774.5397131957523\n",
      "(2, 2, 3) 766.9694015216559\n",
      "(2, 2, 4) 768.9518907927841\n",
      "(2, 3, 0) 908.0669947918971\n",
      "(2, 3, 1) 812.2104838882003\n",
      "(2, 3, 2) 782.1395529459678\n",
      "(2, 3, 3) 787.4044416920073\n",
      "(2, 3, 4) 776.2118095015002\n",
      "(2, 4, 0) 1030.8934998414081\n",
      "(2, 4, 1) 911.6724747150731\n",
      "(2, 4, 2) 821.4940587840179\n",
      "(2, 4, 3) 851.4099310550757\n",
      "(2, 4, 4) 866.2776819828389\n",
      "(3, 0, 0) 781.5197793796784\n",
      "(3, 0, 1) 783.2082019075546\n",
      "(3, 0, 2) 775.4216140039725\n",
      "(3, 0, 3) 777.4202445710162\n",
      "(3, 0, 4) 779.1794065202223\n",
      "(3, 1, 0) 771.7392767262668\n",
      "(3, 1, 1) 773.3818879690214\n",
      "(3, 1, 2) 766.5954766970706\n",
      "(3, 1, 3) 768.370025001944\n",
      "(3, 1, 4) 770.4122624616011\n",
      "(3, 2, 0) 792.1079570100145\n",
      "(3, 2, 1) 774.0897255407535\n",
      "(3, 2, 2) 774.7838074841654\n",
      "(3, 2, 3) 768.9593046327225\n",
      "(3, 2, 4) 770.6249961059495\n",
      "(3, 3, 0) 858.6980940974966\n",
      "(3, 3, 1) 796.773066025633\n",
      "(3, 3, 2) 783.1436456149395\n",
      "(3, 3, 3) 784.2536790081504\n",
      "(3, 3, 4) 781.6997748367723\n",
      "(3, 4, 0) 959.9279950097459\n",
      "(3, 4, 1) 863.5153198699591\n",
      "(3, 4, 2) 807.1117435616464\n",
      "(3, 4, 3) 798.6010011334407\n",
      "(3, 4, 4) 844.3350033016054\n",
      "(4, 0, 0) 782.5938648772845\n",
      "(4, 0, 1) 783.5882502959145\n",
      "(4, 0, 2) 777.4202980175965\n",
      "(4, 0, 3) 779.4187713366978\n",
      "(4, 0, 4) 781.4120243174434\n",
      "(4, 1, 0) 771.7709805878437\n",
      "(4, 1, 1) 770.4830900289546\n",
      "(4, 1, 2) 768.2001417061979\n",
      "(4, 1, 3) 770.4352479802001\n",
      "(4, 1, 4) 772.1161437195012\n",
      "(4, 2, 0) 793.8941653466233\n",
      "(4, 2, 1) 774.0667227903111\n",
      "(4, 2, 2) 772.798890711608\n",
      "(4, 2, 3) 770.5858313296606\n",
      "(4, 2, 4) 772.609973350186\n",
      "(4, 3, 0) 850.0321144670894\n",
      "(4, 3, 1) 798.6290774301713\n",
      "(4, 3, 2) 799.6669086560757\n",
      "(4, 3, 3) 804.4362003997546\n",
      "(4, 3, 4) 782.8264158005826\n",
      "(4, 4, 0) 932.6222769843812\n",
      "(4, 4, 1) 855.3941349354122\n",
      "(4, 4, 2) 867.5152127677028\n",
      "(4, 4, 3) 810.7223321294342\n",
      "(4, 4, 4) 817.2985080824844\n"
     ]
    }
   ],
   "source": [
    "import warnings\n",
    "warnings.filterwarnings('ignore')\n",
    "aics = []\n",
    "for param in pdq:\n",
    "    try:\n",
    "        model_arima2 = ARIMA(train,order=param)\n",
    "        model_arima_fit2 = model_arima2.fit()\n",
    "        aics.append(model_arima_fit2.aic)\n",
    "        print(param,model_arima_fit2.aic)\n",
    "    except:\n",
    "        continue\n",
    "    "
   ]
  },
  {
   "cell_type": "code",
   "execution_count": null,
   "metadata": {},
   "outputs": [
    {
     "data": {
      "text/plain": [
       "764.6173696320816"
      ]
     },
     "metadata": {},
     "output_type": "display_data"
    }
   ],
   "source": [
    "min(aics)"
   ]
  },
  {
   "cell_type": "markdown",
   "metadata": {},
   "source": [
    "Based on the values order=(2, 1, 2) would provide the lowest AIC value"
   ]
  },
  {
   "cell_type": "code",
   "execution_count": 173,
   "metadata": {},
   "outputs": [
    {
     "name": "stdout",
     "output_type": "stream",
     "text": [
      "764.6173696320816\n"
     ]
    }
   ],
   "source": [
    "model_arima = ARIMA(train, order=(2, 1, 2))\n",
    "model_arima_fit = model_arima.fit()\n",
    "print(model_arima_fit.aic)"
   ]
  },
  {
   "cell_type": "code",
   "execution_count": 174,
   "metadata": {},
   "outputs": [
    {
     "data": {
      "text/plain": [
       "[<matplotlib.lines.Line2D at 0x24eaa732e80>]"
      ]
     },
     "execution_count": 174,
     "metadata": {},
     "output_type": "execute_result"
    },
    {
     "data": {
      "image/png": "[encoded data removed]",
      "text/plain": [
       "<Figure size 432x288 with 1 Axes>"
      ]
     },
     "metadata": {
      "needs_background": "light"
     },
     "output_type": "display_data"
    }
   ],
   "source": [
    "plt.plot(train)\n",
    "plt.plot(model_arima_fit.predict(), color=\"red\")"
   ]
  },
  {
   "cell_type": "code",
   "execution_count": 175,
   "metadata": {},
   "outputs": [
    {
     "data": {
      "text/plain": [
       "array([396.72231714, 395.5693321 , 395.90342765, 396.60734146,\n",
       "       395.73122   , 395.86569481, 396.50080337, 395.85286581,\n",
       "       395.85453878, 396.40631268])"
      ]
     },
     "execution_count": 175,
     "metadata": {},
     "output_type": "execute_result"
    }
   ],
   "source": [
    "model_arima_fit.forecast(steps=10)"
   ]
  },
  {
   "cell_type": "code",
   "execution_count": 176,
   "metadata": {},
   "outputs": [
    {
     "data": {
      "text/plain": [
       "[<matplotlib.lines.Line2D at 0x24eaa791760>]"
      ]
     },
     "execution_count": 176,
     "metadata": {},
     "output_type": "execute_result"
    },
    {
     "data": {
      "image/png": "[encoded data removed]",
      "text/plain": [
       "<Figure size 432x288 with 1 Axes>"
      ]
     },
     "metadata": {
      "needs_background": "light"
     },
     "output_type": "display_data"
    }
   ],
   "source": [
    "plt.plot(test)\n",
    "plt.plot(model_arima_fit.forecast(steps=10), color=\"red\")"
   ]
  },
  {
   "cell_type": "code",
   "execution_count": 177,
   "metadata": {},
   "outputs": [
    {
     "data": {
      "text/plain": [
       "40.82663134673915"
      ]
     },
     "execution_count": 177,
     "metadata": {},
     "output_type": "execute_result"
    }
   ],
   "source": [
    "mean_squared_error(test, model_arima_fit.forecast(steps=10))"
   ]
  },
  {
   "cell_type": "code",
   "execution_count": 178,
   "metadata": {},
   "outputs": [
    {
     "data": {
      "text/plain": [
       "array([396.72231714])"
      ]
     },
     "execution_count": 178,
     "metadata": {},
     "output_type": "execute_result"
    }
   ],
   "source": [
    "model_arima_fit.forecast(steps=1)"
   ]
  }
 ],
 "metadata": {
  "kernelspec": {
   "display_name": "Python 3.8.8 ('base')",
   "language": "python",
   "name": "python3"
  },
  "language_info": {
   "codemirror_mode": {
    "name": "ipython",
    "version": 3
   },
   "file_extension": ".py",
   "mimetype": "text/x-python",
   "name": "python",
   "nbconvert_exporter": "python",
   "pygments_lexer": "ipython3",
   "version": "3.8.8"
  },
  "orig_nbformat": 4,
  "vscode": {
   "interpreter": {
    "hash": "41f6f0b3e163db39387111fbd43db48866e4f098574f5ea356a1533ea5ee8329"
   }
  }
 },
 "nbformat": 4,
 "nbformat_minor": 2
}
