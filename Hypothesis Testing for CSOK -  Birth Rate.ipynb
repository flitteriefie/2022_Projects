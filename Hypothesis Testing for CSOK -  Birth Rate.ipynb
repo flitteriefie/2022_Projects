{
 "cells": [
  {
   "cell_type": "code",
   "execution_count": 38,
   "metadata": {},
   "outputs": [],
   "source": [
    "#Import the usual modules\n",
    "import pandas as pd\n",
    "import numpy as np"
   ]
  },
  {
   "cell_type": "markdown",
   "metadata": {},
   "source": [
    "# Data Preprocessing"
   ]
  },
  {
   "cell_type": "code",
   "execution_count": 39,
   "metadata": {},
   "outputs": [
    {
     "data": {
      "text/html": [
       "<div>\n",
       "<style scoped>\n",
       "    .dataframe tbody tr th:only-of-type {\n",
       "        vertical-align: middle;\n",
       "    }\n",
       "\n",
       "    .dataframe tbody tr th {\n",
       "        vertical-align: top;\n",
       "    }\n",
       "\n",
       "    .dataframe thead th {\n",
       "        text-align: right;\n",
       "    }\n",
       "</style>\n",
       "<table border=\"1\" class=\"dataframe\">\n",
       "  <thead>\n",
       "    <tr style=\"text-align: right;\">\n",
       "      <th></th>\n",
       "      <th>Number of live births</th>\n",
       "      <th>Live births per thousand inhabitants</th>\n",
       "      <th>Total fertility rate</th>\n",
       "    </tr>\n",
       "    <tr>\n",
       "      <th>Year</th>\n",
       "      <th></th>\n",
       "      <th></th>\n",
       "      <th></th>\n",
       "    </tr>\n",
       "  </thead>\n",
       "  <tbody>\n",
       "    <tr>\n",
       "      <th>1900</th>\n",
       "      <td>268019</td>\n",
       "      <td>39.7</td>\n",
       "      <td>5.32</td>\n",
       "    </tr>\n",
       "    <tr>\n",
       "      <th>1910</th>\n",
       "      <td>265457</td>\n",
       "      <td>35.1</td>\n",
       "      <td>4.86</td>\n",
       "    </tr>\n",
       "    <tr>\n",
       "      <th>1920</th>\n",
       "      <td>249458</td>\n",
       "      <td>31.4</td>\n",
       "      <td>3.80</td>\n",
       "    </tr>\n",
       "    <tr>\n",
       "      <th>1930</th>\n",
       "      <td>219784</td>\n",
       "      <td>25.4</td>\n",
       "      <td>2.84</td>\n",
       "    </tr>\n",
       "    <tr>\n",
       "      <th>1941</th>\n",
       "      <td>177047</td>\n",
       "      <td>18.9</td>\n",
       "      <td>2.48</td>\n",
       "    </tr>\n",
       "  </tbody>\n",
       "</table>\n",
       "</div>"
      ],
      "text/plain": [
       "      Number of live births  Live births per thousand inhabitants  \\\n",
       "Year                                                                \n",
       "1900                 268019                                  39.7   \n",
       "1910                 265457                                  35.1   \n",
       "1920                 249458                                  31.4   \n",
       "1930                 219784                                  25.4   \n",
       "1941                 177047                                  18.9   \n",
       "\n",
       "      Total fertility rate  \n",
       "Year                        \n",
       "1900                  5.32  \n",
       "1910                  4.86  \n",
       "1920                  3.80  \n",
       "1930                  2.84  \n",
       "1941                  2.48  "
      ]
     },
     "execution_count": 39,
     "metadata": {},
     "output_type": "execute_result"
    }
   ],
   "source": [
    "data = pd.read_excel(\"stadat-nep0006-22.1.1.6-hu.xlsx\", sheet_name=\"22.1.1.6.\", skiprows=1, index_col=0)\n",
    "data.dropna(axis=0, how=\"all\", inplace=True)\n",
    "data.head()"
   ]
  },
  {
   "cell_type": "code",
   "execution_count": 40,
   "metadata": {},
   "outputs": [
    {
     "data": {
      "text/html": [
       "<div>\n",
       "<style scoped>\n",
       "    .dataframe tbody tr th:only-of-type {\n",
       "        vertical-align: middle;\n",
       "    }\n",
       "\n",
       "    .dataframe tbody tr th {\n",
       "        vertical-align: top;\n",
       "    }\n",
       "\n",
       "    .dataframe thead th {\n",
       "        text-align: right;\n",
       "    }\n",
       "</style>\n",
       "<table border=\"1\" class=\"dataframe\">\n",
       "  <thead>\n",
       "    <tr style=\"text-align: right;\">\n",
       "      <th></th>\n",
       "      <th>Year</th>\n",
       "      <th>Number of live births</th>\n",
       "      <th>Live births per thousand inhabitants</th>\n",
       "      <th>Total fertility rate</th>\n",
       "    </tr>\n",
       "  </thead>\n",
       "  <tbody>\n",
       "    <tr>\n",
       "      <th>0</th>\n",
       "      <td>1900</td>\n",
       "      <td>268019</td>\n",
       "      <td>39.7</td>\n",
       "      <td>5.32</td>\n",
       "    </tr>\n",
       "    <tr>\n",
       "      <th>1</th>\n",
       "      <td>1910</td>\n",
       "      <td>265457</td>\n",
       "      <td>35.1</td>\n",
       "      <td>4.86</td>\n",
       "    </tr>\n",
       "    <tr>\n",
       "      <th>2</th>\n",
       "      <td>1920</td>\n",
       "      <td>249458</td>\n",
       "      <td>31.4</td>\n",
       "      <td>3.80</td>\n",
       "    </tr>\n",
       "    <tr>\n",
       "      <th>3</th>\n",
       "      <td>1930</td>\n",
       "      <td>219784</td>\n",
       "      <td>25.4</td>\n",
       "      <td>2.84</td>\n",
       "    </tr>\n",
       "    <tr>\n",
       "      <th>4</th>\n",
       "      <td>1941</td>\n",
       "      <td>177047</td>\n",
       "      <td>18.9</td>\n",
       "      <td>2.48</td>\n",
       "    </tr>\n",
       "  </tbody>\n",
       "</table>\n",
       "</div>"
      ],
      "text/plain": [
       "   Year  Number of live births  Live births per thousand inhabitants  \\\n",
       "0  1900                 268019                                  39.7   \n",
       "1  1910                 265457                                  35.1   \n",
       "2  1920                 249458                                  31.4   \n",
       "3  1930                 219784                                  25.4   \n",
       "4  1941                 177047                                  18.9   \n",
       "\n",
       "   Total fertility rate  \n",
       "0                  5.32  \n",
       "1                  4.86  \n",
       "2                  3.80  \n",
       "3                  2.84  \n",
       "4                  2.48  "
      ]
     },
     "execution_count": 40,
     "metadata": {},
     "output_type": "execute_result"
    }
   ],
   "source": [
    "data.reset_index(inplace=True)\n",
    "data.rename(columns={\"index\": \"Year\"}, inplace=True)\n",
    "data.head()"
   ]
  },
  {
   "cell_type": "code",
   "execution_count": 41,
   "metadata": {},
   "outputs": [
    {
     "data": {
      "text/plain": [
       "Year                                      int64\n",
       "Number of live births                     int64\n",
       "Live births per thousand inhabitants    float64\n",
       "Total fertility rate                    float64\n",
       "dtype: object"
      ]
     },
     "execution_count": 41,
     "metadata": {},
     "output_type": "execute_result"
    }
   ],
   "source": [
    "data.dtypes"
   ]
  },
  {
   "cell_type": "markdown",
   "metadata": {},
   "source": [
    "# Data Exploration"
   ]
  },
  {
   "cell_type": "code",
   "execution_count": 42,
   "metadata": {},
   "outputs": [
    {
     "data": {
      "text/html": [
       "<div>\n",
       "<style scoped>\n",
       "    .dataframe tbody tr th:only-of-type {\n",
       "        vertical-align: middle;\n",
       "    }\n",
       "\n",
       "    .dataframe tbody tr th {\n",
       "        vertical-align: top;\n",
       "    }\n",
       "\n",
       "    .dataframe thead th {\n",
       "        text-align: right;\n",
       "    }\n",
       "</style>\n",
       "<table border=\"1\" class=\"dataframe\">\n",
       "  <thead>\n",
       "    <tr style=\"text-align: right;\">\n",
       "      <th></th>\n",
       "      <th>Year</th>\n",
       "      <th>Number of live births</th>\n",
       "      <th>Live births per thousand inhabitants</th>\n",
       "      <th>Total fertility rate</th>\n",
       "    </tr>\n",
       "  </thead>\n",
       "  <tbody>\n",
       "    <tr>\n",
       "      <th>count</th>\n",
       "      <td>78.000000</td>\n",
       "      <td>78.000000</td>\n",
       "      <td>78.000000</td>\n",
       "      <td>78.000000</td>\n",
       "    </tr>\n",
       "    <tr>\n",
       "      <th>mean</th>\n",
       "      <td>1980.846154</td>\n",
       "      <td>138907.628205</td>\n",
       "      <td>14.147734</td>\n",
       "      <td>1.940869</td>\n",
       "    </tr>\n",
       "    <tr>\n",
       "      <th>std</th>\n",
       "      <td>26.260967</td>\n",
       "      <td>44409.056353</td>\n",
       "      <td>5.852005</td>\n",
       "      <td>0.709523</td>\n",
       "    </tr>\n",
       "    <tr>\n",
       "      <th>min</th>\n",
       "      <td>1900.000000</td>\n",
       "      <td>88049.000000</td>\n",
       "      <td>8.829865</td>\n",
       "      <td>1.231494</td>\n",
       "    </tr>\n",
       "    <tr>\n",
       "      <th>25%</th>\n",
       "      <td>1963.250000</td>\n",
       "      <td>97521.250000</td>\n",
       "      <td>9.641804</td>\n",
       "      <td>1.464363</td>\n",
       "    </tr>\n",
       "    <tr>\n",
       "      <th>50%</th>\n",
       "      <td>1982.500000</td>\n",
       "      <td>130126.500000</td>\n",
       "      <td>12.400000</td>\n",
       "      <td>1.820016</td>\n",
       "    </tr>\n",
       "    <tr>\n",
       "      <th>75%</th>\n",
       "      <td>2001.750000</td>\n",
       "      <td>159880.000000</td>\n",
       "      <td>15.650000</td>\n",
       "      <td>2.079976</td>\n",
       "    </tr>\n",
       "    <tr>\n",
       "      <th>max</th>\n",
       "      <td>2021.000000</td>\n",
       "      <td>268019.000000</td>\n",
       "      <td>39.700000</td>\n",
       "      <td>5.320000</td>\n",
       "    </tr>\n",
       "  </tbody>\n",
       "</table>\n",
       "</div>"
      ],
      "text/plain": [
       "              Year  Number of live births  \\\n",
       "count    78.000000              78.000000   \n",
       "mean   1980.846154          138907.628205   \n",
       "std      26.260967           44409.056353   \n",
       "min    1900.000000           88049.000000   \n",
       "25%    1963.250000           97521.250000   \n",
       "50%    1982.500000          130126.500000   \n",
       "75%    2001.750000          159880.000000   \n",
       "max    2021.000000          268019.000000   \n",
       "\n",
       "       Live births per thousand inhabitants  Total fertility rate  \n",
       "count                             78.000000             78.000000  \n",
       "mean                              14.147734              1.940869  \n",
       "std                                5.852005              0.709523  \n",
       "min                                8.829865              1.231494  \n",
       "25%                                9.641804              1.464363  \n",
       "50%                               12.400000              1.820016  \n",
       "75%                               15.650000              2.079976  \n",
       "max                               39.700000              5.320000  "
      ]
     },
     "execution_count": 42,
     "metadata": {},
     "output_type": "execute_result"
    }
   ],
   "source": [
    "data.describe()"
   ]
  },
  {
   "cell_type": "code",
   "execution_count": 43,
   "metadata": {},
   "outputs": [
    {
     "data": {
      "text/plain": [
       "<AxesSubplot:xlabel='Year', ylabel='Total fertility rate'>"
      ]
     },
     "execution_count": 43,
     "metadata": {},
     "output_type": "execute_result"
    },
    {
     "data": {
      "image/png": "[encoded data removed]",
      "text/plain": [
       "<Figure size 432x288 with 1 Axes>"
      ]
     },
     "metadata": {
      "needs_background": "light"
     },
     "output_type": "display_data"
    }
   ],
   "source": [
    "import seaborn as sns\n",
    "\n",
    "sns.lineplot(data=data, x=\"Year\", y=\"Total fertility rate\")"
   ]
  },
  {
   "cell_type": "code",
   "execution_count": 44,
   "metadata": {},
   "outputs": [
    {
     "data": {
      "text/plain": [
       "<AxesSubplot:xlabel='Year', ylabel='Live births per thousand inhabitants'>"
      ]
     },
     "execution_count": 44,
     "metadata": {},
     "output_type": "execute_result"
    },
    {
     "data": {
      "image/png": "[encoded data removed]",
      "text/plain": [
       "<Figure size 432x288 with 1 Axes>"
      ]
     },
     "metadata": {
      "needs_background": "light"
     },
     "output_type": "display_data"
    }
   ],
   "source": [
    "sns.lineplot(data=data, x=\"Year\", y=\"Live births per thousand inhabitants\")"
   ]
  },
  {
   "cell_type": "code",
   "execution_count": 45,
   "metadata": {},
   "outputs": [
    {
     "data": {
      "text/plain": [
       "<AxesSubplot:xlabel='Year', ylabel='Number of live births'>"
      ]
     },
     "execution_count": 45,
     "metadata": {},
     "output_type": "execute_result"
    },
    {
     "data": {
      "image/png": "[encoded data removed]",
      "text/plain": [
       "<Figure size 432x288 with 1 Axes>"
      ]
     },
     "metadata": {
      "needs_background": "light"
     },
     "output_type": "display_data"
    }
   ],
   "source": [
    "sns.lineplot(data=data, x=\"Year\", y=\"Number of live births\")"
   ]
  },
  {
   "cell_type": "markdown",
   "metadata": {},
   "source": [
    "# Data Preparation"
   ]
  },
  {
   "cell_type": "code",
   "execution_count": 46,
   "metadata": {},
   "outputs": [
    {
     "data": {
      "text/html": [
       "<div>\n",
       "<style scoped>\n",
       "    .dataframe tbody tr th:only-of-type {\n",
       "        vertical-align: middle;\n",
       "    }\n",
       "\n",
       "    .dataframe tbody tr th {\n",
       "        vertical-align: top;\n",
       "    }\n",
       "\n",
       "    .dataframe thead th {\n",
       "        text-align: right;\n",
       "    }\n",
       "</style>\n",
       "<table border=\"1\" class=\"dataframe\">\n",
       "  <thead>\n",
       "    <tr style=\"text-align: right;\">\n",
       "      <th></th>\n",
       "      <th>Year</th>\n",
       "      <th>Number of live births</th>\n",
       "      <th>Live births per thousand inhabitants</th>\n",
       "      <th>Total fertility rate</th>\n",
       "      <th>Interest_category</th>\n",
       "    </tr>\n",
       "  </thead>\n",
       "  <tbody>\n",
       "    <tr>\n",
       "      <th>58</th>\n",
       "      <td>2002</td>\n",
       "      <td>96804</td>\n",
       "      <td>9.500000</td>\n",
       "      <td>1.301091</td>\n",
       "      <td>Not Interesting</td>\n",
       "    </tr>\n",
       "    <tr>\n",
       "      <th>59</th>\n",
       "      <td>2003</td>\n",
       "      <td>94647</td>\n",
       "      <td>9.300000</td>\n",
       "      <td>1.269812</td>\n",
       "      <td>Not Interesting</td>\n",
       "    </tr>\n",
       "    <tr>\n",
       "      <th>60</th>\n",
       "      <td>2004</td>\n",
       "      <td>95137</td>\n",
       "      <td>9.400000</td>\n",
       "      <td>1.274270</td>\n",
       "      <td>Not Interesting</td>\n",
       "    </tr>\n",
       "    <tr>\n",
       "      <th>61</th>\n",
       "      <td>2005</td>\n",
       "      <td>97496</td>\n",
       "      <td>9.700000</td>\n",
       "      <td>1.304338</td>\n",
       "      <td>Not Interesting</td>\n",
       "    </tr>\n",
       "    <tr>\n",
       "      <th>62</th>\n",
       "      <td>2006</td>\n",
       "      <td>99871</td>\n",
       "      <td>9.900000</td>\n",
       "      <td>1.338308</td>\n",
       "      <td>Not Interesting</td>\n",
       "    </tr>\n",
       "    <tr>\n",
       "      <th>63</th>\n",
       "      <td>2007</td>\n",
       "      <td>97613</td>\n",
       "      <td>9.700000</td>\n",
       "      <td>1.313892</td>\n",
       "      <td>Not Interesting</td>\n",
       "    </tr>\n",
       "    <tr>\n",
       "      <th>64</th>\n",
       "      <td>2008</td>\n",
       "      <td>99149</td>\n",
       "      <td>9.877181</td>\n",
       "      <td>1.345522</td>\n",
       "      <td>Pre-CSOK</td>\n",
       "    </tr>\n",
       "    <tr>\n",
       "      <th>65</th>\n",
       "      <td>2009</td>\n",
       "      <td>96442</td>\n",
       "      <td>9.622406</td>\n",
       "      <td>1.319283</td>\n",
       "      <td>Pre-CSOK</td>\n",
       "    </tr>\n",
       "    <tr>\n",
       "      <th>66</th>\n",
       "      <td>2010</td>\n",
       "      <td>90335</td>\n",
       "      <td>9.033479</td>\n",
       "      <td>1.248186</td>\n",
       "      <td>Pre-CSOK</td>\n",
       "    </tr>\n",
       "    <tr>\n",
       "      <th>67</th>\n",
       "      <td>2011</td>\n",
       "      <td>88049</td>\n",
       "      <td>8.829865</td>\n",
       "      <td>1.231494</td>\n",
       "      <td>Pre-CSOK</td>\n",
       "    </tr>\n",
       "    <tr>\n",
       "      <th>68</th>\n",
       "      <td>2012</td>\n",
       "      <td>90269</td>\n",
       "      <td>9.099366</td>\n",
       "      <td>1.335618</td>\n",
       "      <td>Pre-CSOK</td>\n",
       "    </tr>\n",
       "    <tr>\n",
       "      <th>69</th>\n",
       "      <td>2013</td>\n",
       "      <td>88689</td>\n",
       "      <td>8.964750</td>\n",
       "      <td>1.337989</td>\n",
       "      <td>Pre-CSOK</td>\n",
       "    </tr>\n",
       "    <tr>\n",
       "      <th>70</th>\n",
       "      <td>2014</td>\n",
       "      <td>91510</td>\n",
       "      <td>9.274849</td>\n",
       "      <td>1.409947</td>\n",
       "      <td>Pre-CSOK</td>\n",
       "    </tr>\n",
       "    <tr>\n",
       "      <th>71</th>\n",
       "      <td>2015</td>\n",
       "      <td>91690</td>\n",
       "      <td>9.315223</td>\n",
       "      <td>1.438874</td>\n",
       "      <td>Post-CSOK</td>\n",
       "    </tr>\n",
       "    <tr>\n",
       "      <th>72</th>\n",
       "      <td>2016</td>\n",
       "      <td>93063</td>\n",
       "      <td>9.482656</td>\n",
       "      <td>1.493532</td>\n",
       "      <td>Post-CSOK</td>\n",
       "    </tr>\n",
       "    <tr>\n",
       "      <th>73</th>\n",
       "      <td>2017</td>\n",
       "      <td>91577</td>\n",
       "      <td>9.356081</td>\n",
       "      <td>1.493978</td>\n",
       "      <td>Post-CSOK</td>\n",
       "    </tr>\n",
       "    <tr>\n",
       "      <th>74</th>\n",
       "      <td>2018</td>\n",
       "      <td>89807</td>\n",
       "      <td>9.186887</td>\n",
       "      <td>1.485052</td>\n",
       "      <td>Post-CSOK</td>\n",
       "    </tr>\n",
       "    <tr>\n",
       "      <th>75</th>\n",
       "      <td>2019</td>\n",
       "      <td>89193</td>\n",
       "      <td>9.128207</td>\n",
       "      <td>1.489968</td>\n",
       "      <td>Post-CSOK</td>\n",
       "    </tr>\n",
       "    <tr>\n",
       "      <th>76</th>\n",
       "      <td>2020</td>\n",
       "      <td>92338</td>\n",
       "      <td>9.470419</td>\n",
       "      <td>1.560548</td>\n",
       "      <td>Post-CSOK</td>\n",
       "    </tr>\n",
       "    <tr>\n",
       "      <th>77</th>\n",
       "      <td>2021</td>\n",
       "      <td>93039</td>\n",
       "      <td>9.581879</td>\n",
       "      <td>1.588332</td>\n",
       "      <td>Post-CSOK</td>\n",
       "    </tr>\n",
       "  </tbody>\n",
       "</table>\n",
       "</div>"
      ],
      "text/plain": [
       "    Year  Number of live births  Live births per thousand inhabitants  \\\n",
       "58  2002                  96804                              9.500000   \n",
       "59  2003                  94647                              9.300000   \n",
       "60  2004                  95137                              9.400000   \n",
       "61  2005                  97496                              9.700000   \n",
       "62  2006                  99871                              9.900000   \n",
       "63  2007                  97613                              9.700000   \n",
       "64  2008                  99149                              9.877181   \n",
       "65  2009                  96442                              9.622406   \n",
       "66  2010                  90335                              9.033479   \n",
       "67  2011                  88049                              8.829865   \n",
       "68  2012                  90269                              9.099366   \n",
       "69  2013                  88689                              8.964750   \n",
       "70  2014                  91510                              9.274849   \n",
       "71  2015                  91690                              9.315223   \n",
       "72  2016                  93063                              9.482656   \n",
       "73  2017                  91577                              9.356081   \n",
       "74  2018                  89807                              9.186887   \n",
       "75  2019                  89193                              9.128207   \n",
       "76  2020                  92338                              9.470419   \n",
       "77  2021                  93039                              9.581879   \n",
       "\n",
       "    Total fertility rate Interest_category  \n",
       "58              1.301091   Not Interesting  \n",
       "59              1.269812   Not Interesting  \n",
       "60              1.274270   Not Interesting  \n",
       "61              1.304338   Not Interesting  \n",
       "62              1.338308   Not Interesting  \n",
       "63              1.313892   Not Interesting  \n",
       "64              1.345522          Pre-CSOK  \n",
       "65              1.319283          Pre-CSOK  \n",
       "66              1.248186          Pre-CSOK  \n",
       "67              1.231494          Pre-CSOK  \n",
       "68              1.335618          Pre-CSOK  \n",
       "69              1.337989          Pre-CSOK  \n",
       "70              1.409947          Pre-CSOK  \n",
       "71              1.438874         Post-CSOK  \n",
       "72              1.493532         Post-CSOK  \n",
       "73              1.493978         Post-CSOK  \n",
       "74              1.485052         Post-CSOK  \n",
       "75              1.489968         Post-CSOK  \n",
       "76              1.560548         Post-CSOK  \n",
       "77              1.588332         Post-CSOK  "
      ]
     },
     "execution_count": 46,
     "metadata": {},
     "output_type": "execute_result"
    }
   ],
   "source": [
    "# create a list of our conditions\n",
    "conditions = [\n",
    "    (data['Year'] < 2008),\n",
    "    (data['Year'] >= 2008) & (data['Year'] <= 2014),\n",
    "    (data['Year'] >= 2015)\n",
    "    ]\n",
    "\n",
    "# create a list of the values we want to assign for each condition\n",
    "values = ['Not Interesting', 'Pre-CSOK', 'Post-CSOK']\n",
    "\n",
    "# create a new column and use np.select to assign values to it using our lists as arguments\n",
    "data['Interest_category'] = np.select(conditions, values)\n",
    "\n",
    "# display updated DataFrame\n",
    "data.tail(20)"
   ]
  },
  {
   "cell_type": "code",
   "execution_count": 47,
   "metadata": {},
   "outputs": [],
   "source": [
    "pre_csok = data.loc[data['Interest_category'] == 'Pre-CSOK']\n",
    "post_csok = data.loc[data['Interest_category'] == 'Post-CSOK']"
   ]
  },
  {
   "cell_type": "code",
   "execution_count": 48,
   "metadata": {},
   "outputs": [],
   "source": [
    "pre_csok_birth_rate = pre_csok[\"Total fertility rate\"].to_list()\n",
    "post_csok_birth_rate = post_csok[\"Total fertility rate\"].to_list()"
   ]
  },
  {
   "cell_type": "code",
   "execution_count": 49,
   "metadata": {},
   "outputs": [],
   "source": [
    "pre_csok_lbpt = pre_csok[\"Live births per thousand inhabitants\"].to_list()\n",
    "post_csok_lbpt = post_csok[\"Live births per thousand inhabitants\"].to_list()"
   ]
  },
  {
   "cell_type": "markdown",
   "metadata": {},
   "source": [
    "# Statistical Tests"
   ]
  },
  {
   "cell_type": "markdown",
   "metadata": {},
   "source": [
    "### Shapiro-Wilk Test\n",
    "\n",
    "Tests whether a data sample has a Gaussian distribution.\n",
    "\n",
    "Assumptions\n",
    "\n",
    "Observations in each sample are independent and identically distributed (iid).\n",
    "\n",
    "Interpretation\n",
    "\n",
    "- H0: the sample has a Gaussian distribution.\n",
    "- H1: the sample does not have a Gaussian distribution."
   ]
  },
  {
   "cell_type": "code",
   "execution_count": 50,
   "metadata": {},
   "outputs": [
    {
     "name": "stdout",
     "output_type": "stream",
     "text": [
      "stat=0.922, p=0.486\n",
      "Probably Gaussian\n"
     ]
    }
   ],
   "source": [
    "# Example of the Shapiro-Wilk Normality Test\n",
    "from scipy.stats import shapiro\n",
    "stat, p = shapiro(pre_csok_birth_rate)\n",
    "print('stat=%.3f, p=%.3f' % (stat, p))\n",
    "if p > 0.05:\n",
    "\tprint('Probably Gaussian')\n",
    "else:\n",
    "\tprint('Probably not Gaussian')"
   ]
  },
  {
   "cell_type": "code",
   "execution_count": 51,
   "metadata": {},
   "outputs": [
    {
     "name": "stdout",
     "output_type": "stream",
     "text": [
      "stat=0.891, p=0.282\n",
      "Probably Gaussian\n"
     ]
    }
   ],
   "source": [
    "# Example of the Shapiro-Wilk Normality Test\n",
    "from scipy.stats import shapiro\n",
    "stat, p = shapiro(post_csok_birth_rate)\n",
    "print('stat=%.3f, p=%.3f' % (stat, p))\n",
    "if p > 0.05:\n",
    "\tprint('Probably Gaussian')\n",
    "else:\n",
    "\tprint('Probably not Gaussian')"
   ]
  },
  {
   "cell_type": "markdown",
   "metadata": {},
   "source": [
    "### Student’s t-test\n",
    "\n",
    "Tests whether the means of two independent samples are significantly different.\n",
    "\n",
    "Assumptions\n",
    "\n",
    "- Observations in each sample are independent and identically distributed (iid).\n",
    "- Observations in each sample are normally distributed.\n",
    "- Observations in each sample have the same variance.\n",
    "\n",
    "Interpretation\n",
    "\n",
    "- H0: There is no difference in birth rate before and after the CSOK regulation. \n",
    "- H1: There is some difference in birth rate."
   ]
  },
  {
   "cell_type": "code",
   "execution_count": 52,
   "metadata": {},
   "outputs": [
    {
     "name": "stdout",
     "output_type": "stream",
     "text": [
      "stat=-6.319, p=0.000\n",
      "The p-value is smaller than the significance value, 0.05, so we do reject the null hypothesis. \n"
     ]
    }
   ],
   "source": [
    "\n",
    "# Example of the Student's t-test\n",
    "from scipy.stats import ttest_ind\n",
    "\n",
    "stat, p = ttest_ind(pre_csok_birth_rate, post_csok_birth_rate)\n",
    "print('stat=%.3f, p=%.3f' % (stat, p))\n",
    "if p > 0.05:\n",
    "\tprint('The p-value is larger than the significance value, 0.05, so we do not reject the null hypothesis. ')\n",
    "else:\n",
    "\tprint('The p-value is smaller than the significance value, 0.05, so we do reject the null hypothesis. ')"
   ]
  },
  {
   "cell_type": "markdown",
   "metadata": {},
   "source": [
    "### Analysis of Variance Test (ANOVA)\n",
    "\n",
    "Tests whether the means of two or more independent samples are significantly different.\n",
    "\n",
    "Assumptions\n",
    "\n",
    "- Observations in each sample are independent and identically distributed (iid).\n",
    "- Observations in each sample are normally distributed.\n",
    "- Observations in each sample have the same variance.\n",
    "\n",
    "Interpretation\n",
    "\n",
    "- H0: There is no difference in birth rate  before and after the CSOK regulation. \n",
    "- H1: There is some difference in birth rate."
   ]
  },
  {
   "cell_type": "code",
   "execution_count": 53,
   "metadata": {},
   "outputs": [
    {
     "name": "stdout",
     "output_type": "stream",
     "text": [
      "stat=39.934, p=0.000\n",
      "The p-value is smaller than the significance value, 0.05, so we do reject the null hypothesis. \n"
     ]
    }
   ],
   "source": [
    "\n",
    "# Example of the Analysis of Variance Test\n",
    "from scipy.stats import f_oneway\n",
    "\n",
    "stat, p = f_oneway(pre_csok_birth_rate, post_csok_birth_rate)\n",
    "print('stat=%.3f, p=%.3f' % (stat, p))\n",
    "if p > 0.05:\n",
    "\tprint('The p-value is larger than the significance value, 0.05, so we do not reject the null hypothesis. ')\n",
    "else:\n",
    "\tprint('The p-value is smaller than the significance value, 0.05, so we do reject the null hypothesis. ')"
   ]
  },
  {
   "cell_type": "markdown",
   "metadata": {},
   "source": [
    "Just out of curiosity, we test for Live births per thousand inhabitants\tas well."
   ]
  },
  {
   "cell_type": "code",
   "execution_count": 54,
   "metadata": {},
   "outputs": [
    {
     "name": "stdout",
     "output_type": "stream",
     "text": [
      "stat=0.913, p=0.416\n",
      "Probably Gaussian\n"
     ]
    }
   ],
   "source": [
    "# Example of the Shapiro-Wilk Normality Test\n",
    "from scipy.stats import shapiro\n",
    "stat, p = shapiro(pre_csok_lbpt)\n",
    "print('stat=%.3f, p=%.3f' % (stat, p))\n",
    "if p > 0.05:\n",
    "\tprint('Probably Gaussian')\n",
    "else:\n",
    "\tprint('Probably not Gaussian')"
   ]
  },
  {
   "cell_type": "code",
   "execution_count": 55,
   "metadata": {},
   "outputs": [
    {
     "name": "stdout",
     "output_type": "stream",
     "text": [
      "stat=0.958, p=0.803\n",
      "Probably Gaussian\n"
     ]
    }
   ],
   "source": [
    "\n",
    "# Example of the Shapiro-Wilk Normality Test\n",
    "from scipy.stats import shapiro\n",
    "stat, p = shapiro(post_csok_lbpt)\n",
    "print('stat=%.3f, p=%.3f' % (stat, p))\n",
    "if p > 0.05:\n",
    "\tprint('Probably Gaussian')\n",
    "else:\n",
    "\tprint('Probably not Gaussian')"
   ]
  },
  {
   "cell_type": "code",
   "execution_count": 56,
   "metadata": {},
   "outputs": [
    {
     "name": "stdout",
     "output_type": "stream",
     "text": [
      "stat=-0.750, p=0.467\n",
      "The p-value is larger than the significance value, 0.05, so we do not reject the null hypothesis. \n"
     ]
    }
   ],
   "source": [
    "\n",
    "# Example of the Student's t-test\n",
    "from scipy.stats import ttest_ind\n",
    "\n",
    "stat, p = ttest_ind(pre_csok_lbpt, post_csok_lbpt)\n",
    "print('stat=%.3f, p=%.3f' % (stat, p))\n",
    "if p > 0.05:\n",
    "\tprint('The p-value is larger than the significance value, 0.05, so we do not reject the null hypothesis. ')\n",
    "else:\n",
    "\tprint('The p-value is smaller than the significance value, 0.05, so we do reject the null hypothesis. ')"
   ]
  },
  {
   "cell_type": "code",
   "execution_count": 57,
   "metadata": {},
   "outputs": [
    {
     "name": "stdout",
     "output_type": "stream",
     "text": [
      "stat=0.563, p=0.467\n",
      "The p-value is larger than the significance value, 0.05, so we do not reject the null hypothesis. \n"
     ]
    }
   ],
   "source": [
    "# Example of the Analysis of Variance Test\n",
    "from scipy.stats import f_oneway\n",
    "\n",
    "stat, p = f_oneway(pre_csok_lbpt, post_csok_lbpt)\n",
    "print('stat=%.3f, p=%.3f' % (stat, p))\n",
    "if p > 0.05:\n",
    "\tprint('The p-value is larger than the significance value, 0.05, so we do not reject the null hypothesis. ')\n",
    "else:\n",
    "\tprint('The p-value is smaller than the significance value, 0.05, so we do reject the null hypothesis. ')"
   ]
  },
  {
   "cell_type": "code",
   "execution_count": null,
   "metadata": {},
   "outputs": [],
   "source": []
  }
 ],
 "metadata": {
  "kernelspec": {
   "display_name": "Python 3.8.8 ('base')",
   "language": "python",
   "name": "python3"
  },
  "language_info": {
   "codemirror_mode": {
    "name": "ipython",
    "version": 3
   },
   "file_extension": ".py",
   "mimetype": "text/x-python",
   "name": "python",
   "nbconvert_exporter": "python",
   "pygments_lexer": "ipython3",
   "version": "3.8.8"
  },
  "orig_nbformat": 4,
  "vscode": {
   "interpreter": {
    "hash": "41f6f0b3e163db39387111fbd43db48866e4f098574f5ea356a1533ea5ee8329"
   }
  }
 },
 "nbformat": 4,
 "nbformat_minor": 2
}
